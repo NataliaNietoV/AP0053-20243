{
  "nbformat": 4,
  "nbformat_minor": 0,
  "metadata": {
    "colab": {
      "provenance": [],
      "authorship_tag": "ABX9TyOVHR8pvOqN6pZgDdwldhwC",
      "include_colab_link": true
    },
    "kernelspec": {
      "name": "python3",
      "display_name": "Python 3"
    },
    "language_info": {
      "name": "python"
    }
  },
  "cells": [
    {
      "cell_type": "markdown",
      "metadata": {
        "id": "view-in-github",
        "colab_type": "text"
      },
      "source": [
        "<a href=\"https://colab.research.google.com/github/NataliaNietoV/AP0053-20243/blob/main/Corte%201/Dincionario2.ipynb\" target=\"_parent\"><img src=\"https://colab.research.google.com/assets/colab-badge.svg\" alt=\"Open In Colab\"/></a>"
      ]
    },
    {
      "cell_type": "code",
      "execution_count": 92,
      "metadata": {
        "colab": {
          "base_uri": "https://localhost:8080/"
        },
        "collapsed": true,
        "id": "Hb705D2hrrzr",
        "outputId": "1512ae9e-cb01-4cd4-e7ad-f9d8cedbcfcf"
      },
      "outputs": [
        {
          "output_type": "stream",
          "name": "stdout",
          "text": [
            "Su numero telefonico es: 3118284657\n",
            "Su numero telefonico es: 3142354367 \n",
            "\n",
            "['Taurus', 'Virgo', 'Capricorn']\n",
            "['Aries', 'Leo', 'Sagittarius'] \n",
            "\n",
            "El numero de 'Dario' no existe en el diccionario.\n",
            "\n",
            "No es un elemento del zodiaco \n",
            "\n",
            "828\n",
            "None \n",
            "\n"
          ]
        }
      ],
      "source": [
        "#Imprime el valor de la clave que deseamos encontrar\n",
        "\n",
        "\n",
        "##SE OBTIENE EL VALOR DE LA CLAVE QUE QUEREMOS SABER:\n",
        "\n",
        "Numeros_Telefoicos = {\"Daniela\": 3118284657, \"Laura\": 3152907632, \"Sharon\": 3106019008, \"Daniel\": 3209873599, \"Miguel\": 31232235134, \"Andres\": 3142354367}\n",
        "print(\"Su numero telefonico es:\",Numeros_Telefoicos[\"Daniela\"])     # Prints 3118284657\n",
        "print(\"Su numero telefonico es:\",Numeros_Telefoicos[\"Andres\"],\"\\n\") # Prints 3142354367\n",
        "\n",
        "\n",
        "\n",
        "zodiac_elements = {\"Agua\": [\"Cancer\", \"Scorpio\", \"Pisces\"], \"Fuego\": [\"Aries\", \"Leo\", \"Sagittarius\"], \"Tierra\": [\"Taurus\", \"Virgo\", \"Capricorn\"], \"Aire\":[\"Gemini\", \"Libra\", \"Aquarius\"]}\n",
        "print(zodiac_elements[\"Tierra\"])\n",
        "print(zodiac_elements[\"Fuego\"],\"\\n\")\n",
        "\n",
        "\n",
        "###key_to_check = \"\" Compruebe si la clave existe en el diccionario.\n",
        "Numeros_Telefoicos = {\"Daniela\": 3118284657, \"Laura\": 3152907632, \"Sharon\": 3106019008, \"Daniel\": 3209873599, \"Miguel\": 31232235134, \"Andres\": 3142354367}\n",
        "key_to_check = \"Dario\"\n",
        "if key_to_check in Numeros_Telefoicos:\n",
        "    print(\"El numero es:\",Numeros_Telefoicos[key_to_check],\"\\n\")\n",
        "else:\n",
        "    print(f\"El numero de '{key_to_check}' no existe en el diccionario.\"\"\\n\")\n",
        "\n",
        "\n",
        "#Otra forma de comprobar que la clave escrita no existe en el diccionario\n",
        "zodiac_elements = {\"Agua\": [\"Cancer\", \"Scorpio\", \"Pisces\"], \"Fuego\": [\"Aries\", \"Leo\", \"Sagittarius\"], \"Tierra\": [\"Taurus\", \"Virgo\", \"Capricorn\"], \"Aire\":[\"Gemini\", \"Libra\", \"Aquarius\"]}\n",
        "zodiac_elements[\"Energia\"] = \"No es un elemento del zodiaco\"\n",
        "if \"Energia\" in zodiac_elements:\n",
        " print(zodiac_elements[\"Energia\"],\"\\n\")\n",
        "\n",
        "\n",
        "###.get() Obyiene el valor de la clave escrita, si no existe devuelve un none\n",
        "building_heights = {\"Burj Khalifa\": 828, \"Shanghai Tower\": 632, \"Abraj Al Bait\": 601, \"Ping An\": 599, \"Lotte World Tower\": 554.5, \"One World Trade\": 541.3}\n",
        "building_heights.get(\"Burj Khalifa\")                                            #el método get() obteniene el valor asociado a la clave \"Burj Khalifa\"\n",
        "print(building_heights.get(\"Burj Khalifa\"),)\n",
        "building_heights.get(\"My House\")                                                #como no existe el \"My house\"en el dic, el get hace que se devuleva un none(Nada)\n",
        "print(building_heights.get(\"My House\"),\"\\n\")\n",
        "\n",
        "\n",
        "\n",
        "\n",
        "\n",
        "\n",
        "\n"
      ]
    },
    {
      "cell_type": "code",
      "source": [
        "##BUSQUEDA Y MODIFICACION DELDICCIONARIO (ASIGNANDO O ELIMINANDO)\n",
        "##SE OBTIENE EL VALOR DE LA CLAVE QUE QUEREMOS SABER, SI NO LO TENEMOS SE LE ASIGNA UN VALOR\n",
        "\n",
        "\n",
        "### .get() busca el valor de la clave asignada, si no esta se lo asigna\n",
        "user_ids = {\"teraCoder\": 100019, \"pythonGuy\": 182921, \"samTheJavaMaam\": 123112, \"lyleLoop\": 102931, \"keysmithKeith\": 129384}\n",
        "user_ids.get(\"teraCoder\")                           #obteniene el valor asociado a la clave\n",
        "if user_ids.get(\"teraCoder\") == None:               #si no existe\n",
        "   tc_id = 1000                                     #le asigna un valor\n",
        "else:\n",
        "  tc_id = user_ids.get(\"teraCoder\")\n",
        "  print(tc_id)\n",
        "if user_ids.get(\"superStackSmash\") == None:\n",
        "   stack_id = 100000\n",
        "   print(stack_id,\"\\n\")                             #imprime el valor que le asigno\n",
        "\n",
        "\n",
        "\n",
        "##D.pop(key): devuelve el valor de la clave dada y ELIIMINA este par clave:valor del diccionario\n",
        "raffle = {223842: \"Teddy Bear\", 872921: \"Concert Tickets\", 320291: \"Gift Basket\", 412123: \"Necklace\", 298787: \"Pasta Maker\"}\n",
        "print(raffle.pop(320291, \"No Prize\"))               #imprime \"Gift Basket\". cuando o vuelva a imprimir debe eliminar este valor con su respectiva clave\n",
        "print(raffle)                                       #imprime = {223842: \"Teddy Bear\", 872921: \"Concert Tickets\", 412123: \"Necklace\", 298787: \"Pasta Maker\"}\n",
        "print(raffle.pop(100000, \"No Prize\"))               #imprime \"No Prize\" pero no genera ningun cambio\n",
        "print(raffle)\n",
        "print(raffle.pop(872921, \"No Prize\"))               # imprime \"Concert Tickets\"\n",
        "print(raffle,\"\\n\")                                  # imprime {223842: \"Teddy Bear\", 412123: \"Necklace\", 298787: \"Pasta Maker\"}\n"
      ],
      "metadata": {
        "colab": {
          "base_uri": "https://localhost:8080/"
        },
        "collapsed": true,
        "id": "MtgU9WuW2-k2",
        "outputId": "2a435f67-a73c-4330-c952-ff26848d6346"
      },
      "execution_count": 93,
      "outputs": [
        {
          "output_type": "stream",
          "name": "stdout",
          "text": [
            "100019\n",
            "100000 \n",
            "\n",
            "Gift Basket\n",
            "{223842: 'Teddy Bear', 872921: 'Concert Tickets', 412123: 'Necklace', 298787: 'Pasta Maker'}\n",
            "No Prize\n",
            "{223842: 'Teddy Bear', 872921: 'Concert Tickets', 412123: 'Necklace', 298787: 'Pasta Maker'}\n",
            "Concert Tickets\n",
            "{223842: 'Teddy Bear', 412123: 'Necklace', 298787: 'Pasta Maker'} \n",
            "\n"
          ]
        }
      ]
    },
    {
      "cell_type": "code",
      "source": [
        "#Adicionar y obtener en una nueva lista\n",
        "\n",
        "###EL USO DE POP() PERMITE ELIMINAR ITEMS DEL DICCIONARIO Y OBTENER SU VALOR AL MISMO TIEMPO,\n",
        "Numero_de_calorias = {\"Helado\": 50, \"Banano\": 15, \"Papas fritas\": 120, \"Jugo hit\": 225, \"Pan\": 25, \"Chocolatina\": 60}\n",
        "Calorias_consumidas = 60                                                        #Nos indica el numero de calorias iniciales\n",
        "print(\"Numero de calorias\",Numero_de_calorias)\n",
        "print(\"Calorias iniciales\",Calorias_consumidas,\"\\n\")\n",
        "Calorias_consumidas += Numero_de_calorias.pop(\"Banano\", 0)               #Por medio de .pop se estrae el valor de la clave que queremos y lo sumamos al Calorias consumidas, asi eliminandolo del dicionario\n",
        "Calorias_consumidas += Numero_de_calorias.pop(\"Pan\", 0)\n",
        "Calorias_consumidas += Numero_de_calorias.pop(\"Leche\", 0)                #en caso de que la clave no exista en el diccionario este se omite a menos de que se le asigne un valor (\"\", aqui)\n",
        "print(\"Numero de calorias sobrantes\",Numero_de_calorias)                 #imprime el diccionario\n",
        "print(\"Las calorias consumidas fueron:\",Calorias_consumidas,\"\\n\" )       #imprime el numero de calorias consumidas osea aquellos que fueron eliminados del dic\n"
      ],
      "metadata": {
        "colab": {
          "base_uri": "https://localhost:8080/"
        },
        "collapsed": true,
        "id": "8tWnFWp9DU4X",
        "outputId": "4406c1dc-2d89-4520-c967-42f9fb89ef0a"
      },
      "execution_count": 94,
      "outputs": [
        {
          "output_type": "stream",
          "name": "stdout",
          "text": [
            "Numero de calorias {'Helado': 50, 'Banano': 15, 'Papas fritas': 120, 'Jugo hit': 225, 'Pan': 25, 'Chocolatina': 60}\n",
            "Calorias iniciales 60 \n",
            "\n",
            "Numero de calorias sobrantes {'Helado': 50, 'Papas fritas': 120, 'Jugo hit': 225, 'Chocolatina': 60}\n",
            "Las calorias consumidas fueron: 100 \n",
            "\n"
          ]
        }
      ]
    },
    {
      "cell_type": "code",
      "source": [
        "#  EXTRAER CLAVES DE UN DICCIONARIO Y PASARLO A UNA LISTA\n",
        "Lista_Calificaciones = {\"Grace\":[80, 72, 90], \"Jeffrey\":[88, 68, 81], \"Sylvia\":[80, 82, 84], \"Pedro\":[98, 96, 95], \"Martin\":[78, 80, 78], \"Dina\":[64, 60, 75]}\n",
        "print(list(Lista_Calificaciones))                   #list() estrae la clave de los diccionarios\n",
        "for student in Lista_Calificaciones.keys():         #Toma la primera etiqueta (nombre de estudiante) de Lista_calificaciones.La guarda temporalmente en la variable student.\n",
        " print(student,\"\\n\")                                #Imprime lo que esta en estudiantes y sigue con el ciclo\n",
        "\n",
        "\n",
        "#Extrae solo las clves\n",
        "user_ids = {\"teraCoder\": 100019, \"pythonGuy\": 182921, \"samTheJavaMaam\": 123112, \"lyleLoop\": 102931, \"keysmithKeith\": 129384}\n",
        "num_exercises = {\"functions\": 10, \"syntax\": 13, \"control flow\": 15, \"loops\": 22, \"lists\": 19, \"classes\": 18, \"dictionaries\": 18}\n",
        "\n",
        "users = user_ids.keys()                            #EXtrae las claves del diccionario user_id\n",
        "lessons = num_exercises.keys()                     #Extrae las claves del diccionario num_exrcises\n",
        "\n",
        "print(users)\n",
        "print(lessons,\"\\n\")\n",
        "\n",
        "\n",
        "\n"
      ],
      "metadata": {
        "colab": {
          "base_uri": "https://localhost:8080/"
        },
        "collapsed": true,
        "id": "vQD9LkSOHaCH",
        "outputId": "0752fe15-2d52-405b-cc84-e02bb5d7e05c"
      },
      "execution_count": 95,
      "outputs": [
        {
          "output_type": "stream",
          "name": "stdout",
          "text": [
            "['Grace', 'Jeffrey', 'Sylvia', 'Pedro', 'Martin', 'Dina']\n",
            "Grace \n",
            "\n",
            "Jeffrey \n",
            "\n",
            "Sylvia \n",
            "\n",
            "Pedro \n",
            "\n",
            "Martin \n",
            "\n",
            "Dina \n",
            "\n",
            "dict_keys(['teraCoder', 'pythonGuy', 'samTheJavaMaam', 'lyleLoop', 'keysmithKeith'])\n",
            "dict_keys(['functions', 'syntax', 'control flow', 'loops', 'lists', 'classes', 'dictionaries']) \n",
            "\n"
          ]
        }
      ]
    },
    {
      "cell_type": "code",
      "source": [
        "##EXTRAE LOS VALORES Y LOS PONE EN UNA LISTA\n",
        "test_scores = {\"Grace\":[80, 72, 90], \"Jeffrey\":[88, 68, 81], \"Sylvia\":[80, 82, 84], \"Pedro\":[98, 96, 95], \"Martin\":[78, 80, 78], \"Dina\":[64, 60, 75]}\n",
        "for score_list in test_scores.values():                         #Se crea una nueva variable donde se guardan los valores y luego los imprime(en un ciclo)\n",
        "  print(score_list,)\n",
        "\n",
        "print(\"\\n\")\n",
        "\n",
        "num_exercises = {\"functions\": 10, \"syntax\": 13, \"control flow\": 15, \"loops\": 22, \"lists\": 19, \"classes\": 18, \"dictionaries\": 18}\n",
        "total_exercises = 0\n",
        "for exercises in num_exercises.values():                       #Se crea una nueva variable donde se guardan los valores y luego los imprime(en un ciclo)\n",
        " total_exercises += exercises                                  #Los numeros se suman\n",
        " print(total_exercises)"
      ],
      "metadata": {
        "colab": {
          "base_uri": "https://localhost:8080/"
        },
        "collapsed": true,
        "id": "NE04EHekLzUd",
        "outputId": "f22d9d6a-e46e-4740-d74b-49efd5322cb5"
      },
      "execution_count": 96,
      "outputs": [
        {
          "output_type": "stream",
          "name": "stdout",
          "text": [
            "[80, 72, 90]\n",
            "[88, 68, 81]\n",
            "[80, 82, 84]\n",
            "[98, 96, 95]\n",
            "[78, 80, 78]\n",
            "[64, 60, 75]\n",
            "\n",
            "\n",
            "10\n",
            "23\n",
            "38\n",
            "60\n",
            "79\n",
            "97\n",
            "115\n"
          ]
        }
      ]
    },
    {
      "cell_type": "code",
      "source": [
        "##OBTENER TANTO LAS CLAVES COMO SUS VALORES\n",
        "biggest_brands = {\"Apple\": 184, \"Google\": 141.7, \"Microsoft\": 80, \"Coca-Cola\": 69.7, \"Amazon\": 64.8} #Se crea el diccionario\n",
        "for company, value in biggest_brands.items():                                                        #se crea un ciclo donde se toman las claves y los valores para que formen una especie de lista\n",
        " print(company + \" tiene un valor de \" + str(value) + \" billiones de dollares. \")\n",
        "\n",
        "print()\n",
        "\n",
        "pct_women_in_occupation = {\"CEO\": 28, \"Gerente de Ingeniería\": 12, \"Farmacéutica\": 58, \"Médica\": 40, \"Abogada\": 37, \"Ingeniera aeroespacial\": 9}\n",
        "for occupation, percentage in pct_women_in_occupation.items():\n",
        "    print(\"Las mujeres representan el \" + str(percentage) + \" porciento de \" + occupation + \"s.\")\n",
        "\n",
        "print()\n"
      ],
      "metadata": {
        "colab": {
          "base_uri": "https://localhost:8080/"
        },
        "id": "gEJybHZiOSsT",
        "outputId": "de0c3e8f-a907-4d1f-e51a-06979cb9a32b",
        "collapsed": true
      },
      "execution_count": 98,
      "outputs": [
        {
          "output_type": "stream",
          "name": "stdout",
          "text": [
            "Apple tiene un valor de 184 billiones de dollares. \n",
            "Google tiene un valor de 141.7 billiones de dollares. \n",
            "Microsoft tiene un valor de 80 billiones de dollares. \n",
            "Coca-Cola tiene un valor de 69.7 billiones de dollares. \n",
            "Amazon tiene un valor de 64.8 billiones de dollares. \n",
            "\n",
            "Las mujeres representan el 28 porciento de CEOs.\n",
            "Las mujeres representan el 12 porciento de Gerente de Ingenierías.\n",
            "Las mujeres representan el 58 porciento de Farmacéuticas.\n",
            "Las mujeres representan el 40 porciento de Médicas.\n",
            "Las mujeres representan el 37 porciento de Abogadas.\n",
            "Las mujeres representan el 9 porciento de Ingeniera aeroespacials.\n",
            "\n"
          ]
        }
      ]
    }
  ]
}