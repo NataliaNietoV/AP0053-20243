{
  "nbformat": 4,
  "nbformat_minor": 0,
  "metadata": {
    "colab": {
      "provenance": [],
      "authorship_tag": "ABX9TyMaKWyC5gxzbSebkrtFNu2i",
      "include_colab_link": true
    },
    "kernelspec": {
      "name": "python3",
      "display_name": "Python 3"
    },
    "language_info": {
      "name": "python"
    }
  },
  "cells": [
    {
      "cell_type": "markdown",
      "metadata": {
        "id": "view-in-github",
        "colab_type": "text"
      },
      "source": [
        "<a href=\"https://colab.research.google.com/github/NataliaNietoV/AP0053-20243/blob/main/Corte%201/Diccionario1.ipynb\" target=\"_parent\"><img src=\"https://colab.research.google.com/assets/colab-badge.svg\" alt=\"Open In Colab\"/></a>"
      ]
    },
    {
      "cell_type": "code",
      "execution_count": 1,
      "metadata": {
        "colab": {
          "base_uri": "https://localhost:8080/"
        },
        "collapsed": true,
        "id": "JU_XytFxi1WR",
        "outputId": "a22ff75e-581a-433c-91a5-5823731d825f"
      },
      "outputs": [
        {
          "output_type": "stream",
          "name": "stdout",
          "text": [
            "{'Sala': 21, 'Cocina': 23, 'Cuarto': 20}\n",
            "La cantidad de sensores son: 20 \n",
            "\n",
            "{'Programacion Aplicada': 2, 'Calculo Diferencial': 4, 'Fotografia': 1, 'Ondas electromagneticas': 2, 'Electronica': 3}\n",
            "El numero de creditos son:  2 \n",
            "\n",
            "{'Banano': 'Amarillo', 'Fresa': 'rojo', 'Aguacate': 'Verde', 'Mora': 'Morada'}\n",
            "La fruta es de Color rojo \n",
            "\n"
          ]
        }
      ],
      "source": [
        "sensors =  {\"Sala\": 21, \"Cocina\": 23, \"Cuarto\": 20}                            #Se crea el diccionario se asifna a cada \"Clave\" un valor\n",
        "print(sensors)                                                                 #Se imprime el diccionario\n",
        "print(\"La cantidad de sensores son:\" , sensors[\"Cuarto\"],\"\\n\")                 #Cada elemento dentro de un diccionario es un par “clave”: “valor”. Se imprime el valor de la palabra clave.\n",
        "\n",
        "\n",
        "N_creditos = {\"Programacion Aplicada\": 2,  \"Calculo Diferencial\": 4, \"Fotografia\": 1, \"Ondas electromagneticas\":2, \"Electronica\": 3}\n",
        "print(N_creditos)\n",
        "print(\"El numero de creditos son: \", N_creditos['Programacion Aplicada'],\"\\n\")\n",
        "\n",
        "\n",
        "Fruta_color = {\"Banano\": \"Amarillo\", \"Fresa\": \"rojo\", \"Aguacate\": \"Verde\", \"Mora\": \"Morada\" }\n",
        "print(Fruta_color)\n",
        "print(\"La fruta es de Color\",Fruta_color['Fresa'],\"\\n\")\n",
        "\n",
        "\n"
      ]
    },
    {
      "cell_type": "code",
      "source": [
        "#LISTAS\n",
        "\n",
        "##Verifiying an error:\n",
        "#powers = {(1, 2, 4, 8, 16): 2, [1, 3, 9, 27, 81]: 3}                           #A una lista no le puedes asignar un valor (Error) ya que es una tupla.\n",
        "#print(powers[2])\n",
        "\n",
        "Numeros = {\"Par\":[2, 4, 6, 8, 10, 12], \"Impar\": [1, 3, 9, 27, 81]}              #Se crea un diccionario de listas\n",
        "print(Numeros)\n",
        "print(Numeros[\"Par\"],\"\\n\")\n",
        "\n",
        "\n",
        "\n",
        "###Dict comprensiones\n",
        "\n",
        "#Digamos que tenemos dos listas que queremos combinar en una diccionario,como una lista de estudiantes y una lista de sus alturas,\n",
        "\n",
        "names = ['Jenny', 'Alexus', 'Sam', 'Grace']                                     #lista de estudiantes\n",
        "heights = [61, 70, 67, 64]                                                      #lista de estatura\n",
        "zipStudents = zip(names, heights)                                               # zip () combinacion de listas\n",
        "students = {key:value for key, value in zip(names, heights)}                    #key y value son variables que iteran sobre cada tupla en el iterable creado por zip().\n",
        "print(students,\"\\n\")                                                            #La sintaxis {key:value} crea un par clave-valor en el diccionario.\n",
        "\n",
        "#Ejemplo dos\n",
        "drinks = [\"Cafe\", \"Late\", \"mocha\", \"Expreso\"]\n",
        "caffeine = [64, 77, 152, 154]\n",
        "\n",
        "zipped_drinks = zip(drinks, caffeine)\n",
        "#print(zipped_drinks)\n",
        "drinks_to_caffeine = {key:value for key, value in zipped_drinks}\n",
        "print(drinks_to_caffeine)\n",
        "\n"
      ],
      "metadata": {
        "colab": {
          "base_uri": "https://localhost:8080/"
        },
        "id": "z7ZUTf9NrjX5",
        "outputId": "52e3a9de-e696-427b-930b-106fccea93ef",
        "collapsed": true
      },
      "execution_count": 2,
      "outputs": [
        {
          "output_type": "stream",
          "name": "stdout",
          "text": [
            "{'Par': [2, 4, 6, 8, 10, 12], 'Impar': [1, 3, 9, 27, 81]}\n",
            "[2, 4, 6, 8, 10, 12] \n",
            "\n",
            "{'Jenny': 61, 'Alexus': 70, 'Sam': 67, 'Grace': 64} \n",
            "\n",
            "{'Cafe': 64, 'Late': 77, 'mocha': 152, 'Expreso': 154}\n"
          ]
        }
      ]
    },
    {
      "cell_type": "code",
      "source": [
        "#Agregar y modificar diccionarios\n",
        "\n",
        "Diccionario_Vacio = {}                                                                                  #Diccionario vacio permite almacenar nombres y edades\n",
        "print(Diccionario_Vacio)\n",
        "\n",
        "# Agregando elementos al diccionario\n",
        "Diccionario_Vacio [\"Cristian\"] = 21\n",
        "Diccionario_Vacio [\"Robbie\"] = 18\n",
        "Diccionario_Vacio [\"Sonia\"] = 10\n",
        "Diccionario_Vacio [\"Lorena\"] = 31\n",
        "print(Diccionario_Vacio)\n",
        "print(\"Tiene\", Diccionario_Vacio[\"Sonia\"] , \"Años\",\"\\n\")\n",
        "print()\n",
        "\n",
        "\n",
        "Menu = {\"Agua\": 1000, \"Chocolatina\": 1200, \"aceite\": 2500, \"Arroz\": 1500, \"Helado\": 2000 }                  #se crea un diccionario\n",
        "print(\"Menu anterior: \", Menu)                                                                              #se imprime el diccionario\n",
        "Menu[\"Chocorramo\"] = 2100                                                                                   #se agrega un nuevo producto al diccionario\n",
        "print(\"Nuevo menu\", Menu,\"\\n\")                                                                              #se imprime nuevo diccionario\n",
        "print()\n",
        "\n",
        "Animales_del_zoologico = {\"Leon\": 2, \"Pantera\":1, \"Monos\": 7}                    #se crea un dccionario\n",
        "Animales_del_zoologico = {\"dinosaurs\": 5}\n",
        "Animales_del_zoologico= {\"Delfines\": 5, \"Ballenas\": 4, \"Tortugas\":8}             #el nombre del diccionario toma unos nuevo datos, eliminando todo lo anterior\n",
        "print(\"Los animales del zoologico son: \",Animales_del_zoologico,\"\\n\")            #se imprime el ultimo diccionario (remplaza a los demas)\n",
        "print()\n",
        "\n",
        "\n",
        "##Add multiple keys\n",
        "sensors = {\"Sala\": 21, \"Cocina\": 23, \"Habitación\": 20}                          #se crea un nuevo diccionario\n",
        "print(\"Before\", sensors)                                                        #se imprime el diccionario\n",
        "# If we wanted to add 3 new rooms, we could use:\n",
        "sensors.update({\"Baño\": 22, \"Garaje\": 25, \"Patio\": 34})                         #.update añade mas habitaciones que vienen a ser las mismas claves con su respectivo valor\n",
        "print(\"After\", sensors,\"\\n\")\n",
        "print()\n",
        "\n",
        "#Segundo ejemplo con la funcion .update sin necesidad de usar el before y after\n",
        "Cod_Barras = {\"Arroz\": 33738594 , \"Aceite\": 11274839}\n",
        "print(\"Los codigos de barras son:\",Cod_Barras)\n",
        "Cod_Barras.update({\"Huevos\": 52038570, \"Leche\": 23485021})\n",
        "print(\"Los codigos de barras son:\",Cod_Barras ,\"\\n\")\n",
        "print()\n",
        "\n",
        "#Agregar o cambiar valores a una respectiva clave:\n",
        "#menu[\"banana\"] = 3                                                                                   #Error primero se debe crear el diccionario\n",
        "# menu = {\"oatmeal\": 3, \"avocado toast\": 6, \"carrot juice\": 5, \"blueberry muffin\": 2}                 #Se creo el diccionario\n",
        "# print(\"Before: \", menu)                                                                             #Se imprime el diccionario\n",
        "# menu[\"oatmeal\"] = 5                                                                                 #Se cambia el valor de una respectiva clave\n",
        "# print(\"After\", menu)                                                                                #Se imprime el diccionario modificado\n",
        "\n",
        "\n",
        "## Overwrite Values ##\n",
        "#We know that we can add a key by using the following syntax:\n",
        "menu = {\"pancake\": 3, \"tostada de aguacate\": 6, \"Jugo de naranja\": 5, \"muffin de arándanos\": 2}       #Se creo el diccionario\n",
        "print(\"Before: \", menu)                                                                               #Se imprime el diccionario\n",
        "menu[\"muffin de arándanos\"] = 5                                                                       #Se cambia el valor de una respectiva clave\n",
        "menu[\"banana\"] = 3                                                                                    #Se agrega una nueva clave son su respectivo valor\n",
        "print(\"After\", menu,\"\\n\")                                                                             #Se imprime el nuevo menu\n",
        "print()\n",
        "\n",
        "## Notice the value of \"oatmeal\" has now changed to 5.\n",
        "oscar_winners = {\"Mejor Cantante\": \"Andres Cepeda\", \"Mejor Actor\": \"Anthony Hopkins\", \"Mejor Actriz\": \"Jennifer Aniston\", \"Mejor pelicula Animada\": \"Encanto\"}\n",
        "print(\"Before\", oscar_winners)\n",
        "print()\n",
        "oscar_winners.update({\"Actiz de reparto\": \"Viola Davis\"})                                             #se adiciona una clave con su respectivo valor\n",
        "print(\"After1\", oscar_winners)\n",
        "print()\n",
        "oscar_winners[\"Mejor Cantante\"] = \"Juanes\"                                                            #se cambia el valor de la palabra clave: mejor cantante\n",
        "print(\"After2\", oscar_winners)\n",
        "\n"
      ],
      "metadata": {
        "id": "NJ4Kq7WexD3o",
        "colab": {
          "base_uri": "https://localhost:8080/"
        },
        "collapsed": true,
        "outputId": "e0da1970-72a4-4d49-c6a8-4e8e8aa55c29"
      },
      "execution_count": 5,
      "outputs": [
        {
          "output_type": "stream",
          "name": "stdout",
          "text": [
            "{}\n",
            "{'Cristian': 21, 'Robbie': 18, 'Sonia': 10, 'Lorena': 31}\n",
            "Tiene 10 Años \n",
            "\n",
            "\n",
            "Menu anterior:  {'Agua': 1000, 'Chocolatina': 1200, 'aceite': 2500, 'Arroz': 1500, 'Helado': 2000}\n",
            "Nuevo menu {'Agua': 1000, 'Chocolatina': 1200, 'aceite': 2500, 'Arroz': 1500, 'Helado': 2000, 'Chocorramo': 2100} \n",
            "\n",
            "\n",
            "Los animales del zoologico son:  {'Delfines': 5, 'Ballenas': 4, 'Tortugas': 8} \n",
            "\n",
            "\n",
            "Before {'Sala': 21, 'Cocina': 23, 'Habitación': 20}\n",
            "After {'Sala': 21, 'Cocina': 23, 'Habitación': 20, 'Baño': 22, 'Garaje': 25, 'Patio': 34} \n",
            "\n",
            "\n",
            "Los codigos de barras son: {'Arroz': 33738594, 'Aceite': 11274839}\n",
            "Los codigos de barras son: {'Arroz': 33738594, 'Aceite': 11274839, 'Huevos': 52038570, 'Leche': 23485021} \n",
            "\n",
            "\n",
            "Before:  {'pancake': 3, 'tostada de aguacate': 6, 'Jugo de naranja': 5, 'muffin de arándanos': 2}\n",
            "After {'pancake': 3, 'tostada de aguacate': 6, 'Jugo de naranja': 5, 'muffin de arándanos': 5, 'banana': 3} \n",
            "\n",
            "\n",
            "Before {'Mejor Cantante': 'Andres Cepeda', 'Mejor Actor': 'Anthony Hopkins', 'Mejor Actriz': 'Jennifer Aniston', 'Mejor pelicula Animada': 'Encanto'}\n",
            "\n",
            "After1 {'Mejor Cantante': 'Andres Cepeda', 'Mejor Actor': 'Anthony Hopkins', 'Mejor Actriz': 'Jennifer Aniston', 'Mejor pelicula Animada': 'Encanto', 'Actiz de reparto': 'Viola Davis'}\n",
            "\n",
            "After2 {'Mejor Cantante': 'Juanes', 'Mejor Actor': 'Anthony Hopkins', 'Mejor Actriz': 'Jennifer Aniston', 'Mejor pelicula Animada': 'Encanto', 'Actiz de reparto': 'Viola Davis'}\n"
          ]
        }
      ]
    },
    {
      "cell_type": "code",
      "source": [
        "Cancion = [\"Una flor dura\", \"verano\", \"verano son\", \"meses\", \"meses tiene\", \"año.¿Puede\", \"año ser tan breve?\"]    #se crea la primer lista\n",
        "playcounts = [2, 1, 3, 12, 1, 1,0]                                                                                 #se crea la segunda lista\n",
        "plays = {key:value for key, value in zip(Cancion, playcounts)}                                                     #La sintaxis {key:value} crea un par clave-valor en el diccionario\n",
        "print(plays)                                                                                                       #se imprime el diccionario creado\n",
        "plays.update({\"Como es breve el diccionario Para definir quien eres\": 1})                                          #se añade una nueva clave con su respectivo valor\n",
        "plays.update({\"Una flor dura\": 1})                                                                                 #Se cambia el valor de la primer clave\n",
        "print(\"After: \", plays)                                                                                            #se imprime el diccionario kodificado\n",
        "library = {\"La mejor cancion\": plays, \"Dia tras dia\": {}}\n",
        "print(library)\n",
        "\n"
      ],
      "metadata": {
        "colab": {
          "base_uri": "https://localhost:8080/"
        },
        "id": "sT3gNtxqUNLt",
        "outputId": "7487e6f7-0a72-4a79-e358-e6bac79788f0"
      },
      "execution_count": 6,
      "outputs": [
        {
          "output_type": "stream",
          "name": "stdout",
          "text": [
            "{'Una flor dura': 2, 'verano': 1, 'verano son': 3, 'meses': 12, 'meses tiene': 1, 'año.¿Puede': 1, 'año ser tan breve?': 0}\n",
            "After:  {'Una flor dura': 1, 'verano': 1, 'verano son': 3, 'meses': 12, 'meses tiene': 1, 'año.¿Puede': 1, 'año ser tan breve?': 0, 'Como es breve el diccionario Para definir quien eres': 1}\n",
            "{'La mejor cancion': {'Una flor dura': 1, 'verano': 1, 'verano son': 3, 'meses': 12, 'meses tiene': 1, 'año.¿Puede': 1, 'año ser tan breve?': 0, 'Como es breve el diccionario Para definir quien eres': 1}, 'Dia tras dia': {}}\n"
          ]
        }
      ]
    }
  ]
}