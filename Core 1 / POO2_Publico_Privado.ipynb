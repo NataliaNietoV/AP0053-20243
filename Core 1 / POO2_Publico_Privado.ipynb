{
  "nbformat": 4,
  "nbformat_minor": 0,
  "metadata": {
    "colab": {
      "provenance": [],
      "authorship_tag": "ABX9TyOk5VNiGTPnYrf0BSdbfZTJ",
      "include_colab_link": true
    },
    "kernelspec": {
      "name": "python3",
      "display_name": "Python 3"
    },
    "language_info": {
      "name": "python"
    }
  },
  "cells": [
    {
      "cell_type": "markdown",
      "metadata": {
        "id": "view-in-github",
        "colab_type": "text"
      },
      "source": [
        "<a href=\"https://colab.research.google.com/github/NataliaNietoV/AP0053-20243/blob/main/Core%201%20/%20POO2_Publico_Privado.ipynb\" target=\"_parent\"><img src=\"https://colab.research.google.com/assets/colab-badge.svg\" alt=\"Open In Colab\"/></a>"
      ]
    },
    {
      "cell_type": "code",
      "execution_count": 1,
      "metadata": {
        "colab": {
          "base_uri": "https://localhost:8080/"
        },
        "id": "9m3ASAmR3GZe",
        "outputId": "a8b3a7ca-d9dc-44dc-cb67-8f47359a886a"
      },
      "outputs": [
        {
          "output_type": "stream",
          "name": "stdout",
          "text": [
            "3.1415\n"
          ]
        }
      ],
      "source": [
        "##todos los elementos dentro de una clase serán \"públicos\"\n",
        "\n",
        "class Circulo:\n",
        "    pi = 3.1415 # Atributo de clase\n",
        "\n",
        "print(Circulo.pi)"
      ]
    },
    {
      "cell_type": "code",
      "source": [
        "class User:\n",
        "    def __init__(self, username):\n",
        "        self.username = username\n",
        "\n",
        "cody = User('20222005083')\n",
        "print(cody.username)\n",
        "\n",
        "cody.username = 'Natalia Nieto'\n",
        "print(cody.username)"
      ],
      "metadata": {
        "colab": {
          "base_uri": "https://localhost:8080/"
        },
        "id": "-5BCycjf8QS4",
        "outputId": "3077a156-ed62-4ef0-d36e-4a380d1a3d4e"
      },
      "execution_count": 3,
      "outputs": [
        {
          "output_type": "stream",
          "name": "stdout",
          "text": [
            "20222005083\n",
            "Natalia Nieto\n"
          ]
        }
      ]
    },
    {
      "cell_type": "code",
      "source": [
        "class User:\n",
        "\n",
        "    def __init__(self, username):\n",
        "        self.username = username\n",
        "\n",
        "    def set_username(self, username):\n",
        "        self.username = username\n",
        "\n",
        "    def get_username(self):\n",
        "        return self.username\n",
        "\n",
        "cody = User('20222005083')\n",
        "print(cody.get_username())\n",
        "\n",
        "cody.set_username('Natalia Nieto')\n",
        "print(cody.get_username())\n",
        "\n",
        "\n",
        "\n",
        "## set_username y get_username, así como el atributo, username, son \"publicos\".\n",
        "## Pueden ser accedidos y modificados fuera de la clase"
      ],
      "metadata": {
        "colab": {
          "base_uri": "https://localhost:8080/"
        },
        "id": "8oNQ0iTJ8vuG",
        "outputId": "959ef748-6e5d-46a4-fa3b-752253b36a1b"
      },
      "execution_count": 5,
      "outputs": [
        {
          "output_type": "stream",
          "name": "stdout",
          "text": [
            "20222005083\n",
            "Natalia Nieto\n"
          ]
        }
      ]
    },
    {
      "cell_type": "code",
      "source": [
        "## PRIVADO SE AGREGA _\n",
        "\n",
        "class User:\n",
        "\n",
        "    def __init__(self, username, password):\n",
        "        self.username = username\n",
        "        self._password = password\n",
        "\n",
        "    def set_username(self, username):\n",
        "        self.username = username\n",
        "\n",
        "    def get_username(self):\n",
        "        return self.username\n",
        "\n",
        "cody = User('Cody', 'password123')\n",
        "print(cody._password)\n"
      ],
      "metadata": {
        "colab": {
          "base_uri": "https://localhost:8080/"
        },
        "id": "WDN4pVuJ9OWO",
        "outputId": "6fe11cc7-f227-4fe3-974d-81e22b5820d9"
      },
      "execution_count": 6,
      "outputs": [
        {
          "output_type": "stream",
          "name": "stdout",
          "text": [
            "password123\n"
          ]
        }
      ]
    },
    {
      "cell_type": "code",
      "source": [
        "##utilizamos el doble guión bajo (__) para prevenir accesos no autorizados.\n",
        "\n",
        "class Demo:\n",
        "    def __secret(self):\n",
        "        print('Nadie puede saber!')\n",
        "\n",
        "        #no imprime nada debido a que es secreto por el doble __\n",
        "\n",
        "    def public(self):\n",
        "        self.__secret()\n",
        "\n",
        "class Child(Demo):\n",
        "    def __secret(self):\n",
        "        print('No puedo contarte!')\n",
        "\n",
        "demo = Demo()\n",
        "#print(demo.__secret())\n",
        "\n",
        "#imprime ---> AttributeError: 'Demo' object has no attribute '__secret'\n",
        "\n",
        "\n",
        "#print(demo.public())\n",
        "#imprime ---> Nadie puede saber!\n",
        "\n",
        "child = Child()\n",
        "#print(child.public())\n",
        "#imprime ---> Nadie puede saber!\n",
        "\n",
        "print(dir(demo) )\n",
        "\n",
        "\n",
        "\n"
      ],
      "metadata": {
        "colab": {
          "base_uri": "https://localhost:8080/"
        },
        "id": "sz2BPOd-_8pO",
        "outputId": "c0cba231-1bc7-4078-9b4c-ec9d7fd00acd"
      },
      "execution_count": 24,
      "outputs": [
        {
          "output_type": "stream",
          "name": "stdout",
          "text": [
            "['_Demo__secret', '__class__', '__delattr__', '__dict__', '__dir__', '__doc__', '__eq__', '__format__', '__ge__', '__getattribute__', '__gt__', '__hash__', '__init__', '__init_subclass__', '__le__', '__lt__', '__module__', '__ne__', '__new__', '__reduce__', '__reduce_ex__', '__repr__', '__setattr__', '__sizeof__', '__str__', '__subclasshook__', '__weakref__', 'public']\n"
          ]
        }
      ]
    },
    {
      "cell_type": "code",
      "source": [
        "class User:\n",
        "    def __init__(self, username, password):                                     #constructor (se ejecuta al crear un objeto en la clase)\n",
        "        self.username = username                                                #parametros\n",
        "        self.change_password(password)\n",
        "\n",
        "    def change_password(self, password):                                        #Método para cambiar contraseña\n",
        "        import hashlib\n",
        "        self.__encrypted_password = hashlib.sha512(password.encode('utf-8')).hexdigest()    #algoritmo contraseña por medio de hashlib\n",
        "\n",
        "    @property\n",
        "    def password(self):                                                         #Getter para la contraseña: Define un getter para la propiedad password.\n",
        "     return self.__encrypted_password                                          #Devuelve el valor del atributo privado __encrypted_password, que contiene la contraseña encriptada.\n",
        "\n",
        "\n",
        "user = User('User', 'password123')\n",
        "print(user.password)\n",
        "# Imprime el hash de la contraseña original\n",
        "\n",
        "user.change_password('change_password123')\n",
        "print(user.password)\n",
        "# Imprime el hash de la nueva contraseña\n",
        "#aún que el intérprete re nombre al elemento, aun así es posible acceder a él."
      ],
      "metadata": {
        "colab": {
          "base_uri": "https://localhost:8080/"
        },
        "id": "nJ8Xzc-gFHXT",
        "outputId": "48e68e2f-b054-4916-c332-0e2a4b8bb40b"
      },
      "execution_count": 34,
      "outputs": [
        {
          "output_type": "stream",
          "name": "stdout",
          "text": [
            "bed4efa1d4fdbd954bd3705d6a2a78270ec9a52ecfbfb010c61862af5c76af1761ffeb1aef6aca1bf5d02b3781aa854fabd2b69c790de74e17ecfec3cb6ac4bf\n",
            "7870fb72b950a3619aa1c900076caa32a6e5cacaaf4f117ddb6e24ce6a0e971ac23083e83859a5e6ed7c9113dad7cc5bfa11e63a93edd5ae785f32e2b75805b5\n"
          ]
        }
      ]
    }
  ]
}