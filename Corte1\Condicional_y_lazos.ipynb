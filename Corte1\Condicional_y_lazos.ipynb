{
  "nbformat": 4,
  "nbformat_minor": 0,
  "metadata": {
    "colab": {
      "provenance": [],
      "authorship_tag": "ABX9TyPnTPEjxT//U5yNZ7fg2vyD",
      "include_colab_link": true
    },
    "kernelspec": {
      "name": "python3",
      "display_name": "Python 3"
    },
    "language_info": {
      "name": "python"
    }
  },
  "cells": [
    {
      "cell_type": "markdown",
      "metadata": {
        "id": "view-in-github",
        "colab_type": "text"
      },
      "source": [
        "<a href=\"https://colab.research.google.com/github/NataliaNietoV/AP0053-20243/blob/main/Corte1%5CCondicional_y_lazos.ipynb\" target=\"_parent\"><img src=\"https://colab.research.google.com/assets/colab-badge.svg\" alt=\"Open In Colab\"/></a>"
      ]
    },
    {
      "cell_type": "code",
      "execution_count": null,
      "metadata": {
        "colab": {
          "base_uri": "https://localhost:8080/"
        },
        "collapsed": true,
        "id": "lqPNJiGDe-FS",
        "outputId": "b6be29cf-da92-4649-e37d-363497cf1b91"
      },
      "outputs": [
        {
          "output_type": "stream",
          "name": "stdout",
          "text": [
            "108\n",
            "120\n",
            "132\n",
            "144\n",
            "156\n",
            "168\n",
            "180\n",
            "192\n",
            "204\n",
            "216\n",
            "228\n",
            "240\n",
            "252\n",
            "264\n",
            "276\n",
            "288\n",
            "300\n"
          ]
        }
      ],
      "source": [
        "#Divisible por 12\n",
        "#Todo numero que este en el rango y se divide por 12 y su resultado es cero, el range no tiene en cuenta el ultimo numero\n",
        "for i in range(100,301):\n",
        "  if (i%12) !=0:\n",
        "    continue            #se sqalta el print y sigue evaluando\n",
        "  print (i)\n",
        "\n",
        "\n",
        "\n"
      ]
    },
    {
      "cell_type": "code",
      "source": [
        "#Factorial\n",
        "#Value nombre de la variable para el numero, debe ser entero. imprime,\n",
        "\n",
        "while True:\n",
        "\n",
        "    value = int(input(input(\"Ingrese un numero entero: \"))\n",
        "    print(\"Value: \", value)\n",
        "    a = isinstance(value, int)                                   # isinstance (rectifica si es un entero, si si manda un true)\n",
        "    if a == True and value > 0:\n",
        "        fact = 1\n",
        "        for i in range (1, value + 1):                          #el rango que se estipula para hacer factorial, se inicia en 0 ya que range marca en la posicion iniciando desde cero, y no tiene en cuenta en si el ultimo numero que es value\n",
        "            fact = fact*i                                       #proceso para sacar el factorial, fact inicia en 1 e i representa el rango\n",
        "        print(f'El factorial de {value} es: ', fact)            # f forma de escribir todo lo que este en llaves de lo marca como la variable\n",
        "    else:\n",
        "        print(\"Porfavor ingrese un numero entero: \")\n"
      ],
      "metadata": {
        "colab": {
          "base_uri": "https://localhost:8080/",
          "height": 460
        },
        "id": "kYj3jA9ukNct",
        "outputId": "fb2be8cf-ecc1-4c62-e715-6195bf299daf",
        "collapsed": true
      },
      "execution_count": null,
      "outputs": [
        {
          "output_type": "stream",
          "name": "stdout",
          "text": [
            "Ingrese un numero entero: 25\n",
            "Numero:  25\n",
            "Porfavor ingrese un numero entero: \n",
            "Ingrese un numero entero: hjbmk \n",
            "Numero:  hjbmk \n",
            "Porfavor ingrese un numero entero: \n"
          ]
        },
        {
          "output_type": "error",
          "ename": "KeyboardInterrupt",
          "evalue": "Interrupted by user",
          "traceback": [
            "\u001b[0;31m---------------------------------------------------------------------------\u001b[0m",
            "\u001b[0;31mKeyboardInterrupt\u001b[0m                         Traceback (most recent call last)",
            "\u001b[0;32m<ipython-input-18-a3a950f79b3e>\u001b[0m in \u001b[0;36m<cell line: 4>\u001b[0;34m()\u001b[0m\n\u001b[1;32m      4\u001b[0m \u001b[0;32mwhile\u001b[0m \u001b[0;32mTrue\u001b[0m\u001b[0;34m:\u001b[0m\u001b[0;34m\u001b[0m\u001b[0;34m\u001b[0m\u001b[0m\n\u001b[1;32m      5\u001b[0m \u001b[0;34m\u001b[0m\u001b[0m\n\u001b[0;32m----> 6\u001b[0;31m     \u001b[0mvalue\u001b[0m \u001b[0;34m=\u001b[0m \u001b[0;34m(\u001b[0m\u001b[0minput\u001b[0m\u001b[0;34m(\u001b[0m\u001b[0;34m\"Ingrese un numero entero: \"\u001b[0m\u001b[0;34m)\u001b[0m\u001b[0;34m)\u001b[0m\u001b[0;34m\u001b[0m\u001b[0;34m\u001b[0m\u001b[0m\n\u001b[0m\u001b[1;32m      7\u001b[0m     \u001b[0mprint\u001b[0m\u001b[0;34m(\u001b[0m\u001b[0;34m\"Numero: \"\u001b[0m\u001b[0;34m,\u001b[0m \u001b[0mvalue\u001b[0m\u001b[0;34m)\u001b[0m\u001b[0;34m\u001b[0m\u001b[0;34m\u001b[0m\u001b[0m\n\u001b[1;32m      8\u001b[0m     \u001b[0ma\u001b[0m \u001b[0;34m=\u001b[0m \u001b[0misinstance\u001b[0m\u001b[0;34m(\u001b[0m\u001b[0mvalue\u001b[0m\u001b[0;34m,\u001b[0m \u001b[0mint\u001b[0m\u001b[0;34m)\u001b[0m                                  \u001b[0;31m# isinstance (rectifica si es un entero, si si manda un true)\u001b[0m\u001b[0;34m\u001b[0m\u001b[0;34m\u001b[0m\u001b[0m\n",
            "\u001b[0;32m/usr/local/lib/python3.10/dist-packages/ipykernel/kernelbase.py\u001b[0m in \u001b[0;36mraw_input\u001b[0;34m(self, prompt)\u001b[0m\n\u001b[1;32m    849\u001b[0m                 \u001b[0;34m\"raw_input was called, but this frontend does not support input requests.\"\u001b[0m\u001b[0;34m\u001b[0m\u001b[0;34m\u001b[0m\u001b[0m\n\u001b[1;32m    850\u001b[0m             )\n\u001b[0;32m--> 851\u001b[0;31m         return self._input_request(str(prompt),\n\u001b[0m\u001b[1;32m    852\u001b[0m             \u001b[0mself\u001b[0m\u001b[0;34m.\u001b[0m\u001b[0m_parent_ident\u001b[0m\u001b[0;34m,\u001b[0m\u001b[0;34m\u001b[0m\u001b[0;34m\u001b[0m\u001b[0m\n\u001b[1;32m    853\u001b[0m             \u001b[0mself\u001b[0m\u001b[0;34m.\u001b[0m\u001b[0m_parent_header\u001b[0m\u001b[0;34m,\u001b[0m\u001b[0;34m\u001b[0m\u001b[0;34m\u001b[0m\u001b[0m\n",
            "\u001b[0;32m/usr/local/lib/python3.10/dist-packages/ipykernel/kernelbase.py\u001b[0m in \u001b[0;36m_input_request\u001b[0;34m(self, prompt, ident, parent, password)\u001b[0m\n\u001b[1;32m    893\u001b[0m             \u001b[0;32mexcept\u001b[0m \u001b[0mKeyboardInterrupt\u001b[0m\u001b[0;34m:\u001b[0m\u001b[0;34m\u001b[0m\u001b[0;34m\u001b[0m\u001b[0m\n\u001b[1;32m    894\u001b[0m                 \u001b[0;31m# re-raise KeyboardInterrupt, to truncate traceback\u001b[0m\u001b[0;34m\u001b[0m\u001b[0;34m\u001b[0m\u001b[0m\n\u001b[0;32m--> 895\u001b[0;31m                 \u001b[0;32mraise\u001b[0m \u001b[0mKeyboardInterrupt\u001b[0m\u001b[0;34m(\u001b[0m\u001b[0;34m\"Interrupted by user\"\u001b[0m\u001b[0;34m)\u001b[0m \u001b[0;32mfrom\u001b[0m \u001b[0;32mNone\u001b[0m\u001b[0;34m\u001b[0m\u001b[0;34m\u001b[0m\u001b[0m\n\u001b[0m\u001b[1;32m    896\u001b[0m             \u001b[0;32mexcept\u001b[0m \u001b[0mException\u001b[0m \u001b[0;32mas\u001b[0m \u001b[0me\u001b[0m\u001b[0;34m:\u001b[0m\u001b[0;34m\u001b[0m\u001b[0;34m\u001b[0m\u001b[0m\n\u001b[1;32m    897\u001b[0m                 \u001b[0mself\u001b[0m\u001b[0;34m.\u001b[0m\u001b[0mlog\u001b[0m\u001b[0;34m.\u001b[0m\u001b[0mwarning\u001b[0m\u001b[0;34m(\u001b[0m\u001b[0;34m\"Invalid Message:\"\u001b[0m\u001b[0;34m,\u001b[0m \u001b[0mexc_info\u001b[0m\u001b[0;34m=\u001b[0m\u001b[0;32mTrue\u001b[0m\u001b[0;34m)\u001b[0m\u001b[0;34m\u001b[0m\u001b[0;34m\u001b[0m\u001b[0m\n",
            "\u001b[0;31mKeyboardInterrupt\u001b[0m: Interrupted by user"
          ]
        }
      ]
    },
    {
      "cell_type": "code",
      "source": [
        "#Operacion matematica\n",
        "#Tipo de numero\n",
        "\n",
        "def identificar_tipo(numero):\n",
        "    try:\n",
        "        num_float = float(numero)\n",
        "        if num_float.is_integer():\n",
        "            return \"entero\"\n",
        "        else:\n",
        "            return \"flotante\"\n",
        "    except ValueError:\n",
        "        return \"No es un número\"\n",
        "\n",
        "a = input(\"Ingrese un número: \")\n",
        "tipo = identificar_tipo(a)\n",
        "\n",
        "print(f\"El número ingresado es de tipo: {tipo}\")\n",
        "\n",
        "if tipo == \"entero\":\n",
        "    a = int(a)\n",
        "else:\n",
        "    if tipo == \"flotante\":\n",
        "        a = float(a)\n",
        "    else:\n",
        "        print(\"Tipo de dato no válido\")\n",
        "\n",
        "b = input(\"Ingrese un número: \")\n",
        "tipo = identificar_tipo(b)\n",
        "\n",
        "print(f\"El número ingresado es de tipo: {tipo}\")\n",
        "\n",
        "if tipo == \"entero\":\n",
        "    b = int(b)\n",
        "else:\n",
        "    if tipo == \"flotante\":\n",
        "        b = float(b)\n",
        "    else:\n",
        "        print(\"Tipo de dato no válido\")\n",
        "\n",
        "c = a + b\n",
        "\n",
        "if a == b:\n",
        "    print(\"Iguales\")\n",
        "else:\n",
        "    print(\"Diferentes\")\n",
        "\n",
        "print(\"El tipo de a es: \", type(a))          #type imprime el tipo de clase\n",
        "print(\"El tipo de b es: \", type(b))\n",
        "print(\"c = \", c)\n",
        "\n",
        "if type(a) == type(b):\n",
        "    print(\"a y b son del mismo tipo\")\n",
        "else:\n",
        "    print(\"a y b son de diferente tipo\")\n",
        "\n",
        "\n",
        "print(\"\\n\")\n",
        "print(\"\\n\")\n",
        "\n",
        "\n",
        "#NUMEROS PAR E IMPAR EN UN RANGO DE NUMEROS\n",
        "\n",
        "for i in range (1,21):\n",
        "    residual = i%2\n",
        "    if residual == 0:\n",
        "       print(f'{i} is par')\n",
        "    else:\n",
        "       print(f'{i} is impar')\n",
        "       #print(str(i) + ' is impar')           #OTRA FORMA DE IMPRIMIR QUE ES IMPAR\n",
        "\n",
        "print(\"\\n\")\n",
        "\n",
        "for i in range (0,6):\n",
        "     result = i**3                            #POTENCIA ELEVA CADA NUMERO DEL RANGO AL 3\n",
        "     print(result)\n",
        "\n",
        "print(\"\\n\")"
      ],
      "metadata": {
        "colab": {
          "base_uri": "https://localhost:8080/"
        },
        "id": "C0dnI5k8p4jY",
        "outputId": "b7bd6b5c-b59f-48c9-e510-a129471df21c",
        "collapsed": true
      },
      "execution_count": 15,
      "outputs": [
        {
          "output_type": "stream",
          "name": "stdout",
          "text": [
            "Ingrese un número: 2\n",
            "El número ingresado es de tipo: entero\n",
            "Ingrese un número: 3\n",
            "El número ingresado es de tipo: entero\n",
            "Diferentes\n",
            "El tipo de a es:  <class 'int'>\n",
            "El tipo de b es:  <class 'int'>\n",
            "c =  5\n",
            "a y b son del mismo tipo\n",
            "\n",
            "\n",
            "\n",
            "\n",
            "1 is impar\n",
            "2 is par\n",
            "3 is impar\n",
            "4 is par\n",
            "5 is impar\n",
            "6 is par\n",
            "7 is impar\n",
            "8 is par\n",
            "9 is impar\n",
            "10 is par\n",
            "11 is impar\n",
            "12 is par\n",
            "13 is impar\n",
            "14 is par\n",
            "15 is impar\n",
            "16 is par\n",
            "17 is impar\n",
            "18 is par\n",
            "19 is impar\n",
            "20 is par\n",
            "\n",
            "\n",
            "0\n",
            "1\n",
            "8\n",
            "27\n",
            "64\n",
            "125\n",
            "\n",
            "\n"
          ]
        }
      ]
    },
    {
      "cell_type": "code",
      "source": [
        "times = input(\"Enter a number of times: \")\n",
        "times = float(times)\n",
        "times = int(times)                        #si entra un flotante lo convierte en entero\n",
        "print(type(times))\n",
        "print(times)\n",
        "\n",
        "if times == 0:\n",
        "    print(\"Don't do anything\")\n",
        "else:\n",
        "    for t in range(1,times+1):            #entra en un ciclo para imprimir los tiempos, para range debe ser entero el numero\n",
        "        print(\"t = \", t)"
      ],
      "metadata": {
        "colab": {
          "base_uri": "https://localhost:8080/"
        },
        "collapsed": true,
        "id": "WQFc_5FArbuc",
        "outputId": "29aeb896-f15f-45a4-f5da-81add5ff60a0"
      },
      "execution_count": 20,
      "outputs": [
        {
          "output_type": "stream",
          "name": "stdout",
          "text": [
            "Enter a number of times: 4\n",
            "<class 'int'>\n",
            "4\n",
            "t =  1\n",
            "t =  2\n",
            "t =  3\n",
            "t =  4\n"
          ]
        }
      ]
    },
    {
      "cell_type": "code",
      "source": [
        "#imprime cadena de careacteres\n",
        "import time\n",
        "\n",
        "cadena = 'Python'           #cadena para imprimir\n",
        "\n",
        "for letra in cadena:\n",
        "   if letra == 't':         #no escribirla\n",
        "      continue\n",
        "   print(letra)\n",
        "   time.sleep(5)            #tiempo que se imprime"
      ],
      "metadata": {
        "colab": {
          "base_uri": "https://localhost:8080/"
        },
        "collapsed": true,
        "id": "saG49OJqubNL",
        "outputId": "9da80726-80b0-4552-f576-51562b17652b"
      },
      "execution_count": 21,
      "outputs": [
        {
          "output_type": "stream",
          "name": "stdout",
          "text": [
            "P\n",
            "y\n",
            "h\n",
            "o\n",
            "n\n"
          ]
        }
      ]
    },
    {
      "cell_type": "code",
      "source": [
        "#Grafica\n",
        "import random\n",
        "from matplotlib import pyplot as plt\n",
        "\n",
        "# Add your code below:\n",
        "numbers_x = range(1, 13)\n",
        "numbers_y = [random.randint(1, 1000) for i in range(12)]      #es 12 ya que cada valor de x debe tener un y. se le da un rango a y\n",
        "plt.plot(numbers_x, numbers_y)                                #posicion\n",
        "plt.show()                                                    #saca una nueva ventana para mostrar la grafica"
      ],
      "metadata": {
        "colab": {
          "base_uri": "https://localhost:8080/",
          "height": 430
        },
        "id": "vUWHpUhSvbED",
        "outputId": "339d9d0a-ca31-4d2d-a9bb-4a90eaa7f036",
        "collapsed": true
      },
      "execution_count": 22,
      "outputs": [
        {
          "output_type": "display_data",
          "data": {
            "text/plain": [
              "<Figure size 640x480 with 1 Axes>"
            ],
            "image/png": "[encoded data removed]"
          },
          "metadata": {}
        }
      ]
    },
    {
      "cell_type": "code",
      "source": [
        "#TIEMPO QUE PARA MIRAR SI EN NUMERO ES PRIMO ENTRE EL 0 Y EL 30\n",
        "import time                             #medir el tiempo\n",
        "\n",
        "inicio = time.time()                    #registra el tiempo de inicio\n",
        "\n",
        "for i in range(0,30):                  #un ciclo que esta en un rango de numero\n",
        "    conta = 0                          #variable inicia en 0  se utilizará para contar el número de divisores de i.\n",
        "    for n in range(1, i+1):\n",
        "        residue = i%n                 #calcula el residuo de la división de i entre n\n",
        "        if residue == 0:              #si el residuo es 0, significa que n es un divisor de i.\n",
        "            conta = conta + 1         #si se cumple lo de arribe se incrementa 1\n",
        "\n",
        "    if conta == 2:                    # se verifica si conta es igual a 2. Si es así, significa que i solo tiene dos divisores (1 y sí mismo)\n",
        "        print(f'{i} es un primo')\n",
        "\n",
        "fin = time.time()\n",
        "print(\"t = \", (fin - inicio)*1000)    #el tiempo en milisegundos"
      ],
      "metadata": {
        "colab": {
          "base_uri": "https://localhost:8080/"
        },
        "id": "ra3Bf31hEgHp",
        "outputId": "7bf21bff-7899-4f7f-fa26-45551347a031",
        "collapsed": true
      },
      "execution_count": 23,
      "outputs": [
        {
          "output_type": "stream",
          "name": "stdout",
          "text": [
            "2 es un primo\n",
            "3 es un primo\n",
            "5 es un primo\n",
            "7 es un primo\n",
            "11 es un primo\n",
            "13 es un primo\n",
            "17 es un primo\n",
            "19 es un primo\n",
            "23 es un primo\n",
            "29 es un primo\n",
            "t =  5.191564559936523\n"
          ]
        }
      ]
    },
    {
      "cell_type": "code",
      "source": [
        "#Ingresar un vaor y mirar si es primo\n",
        "\n",
        "#Este código permite al usuario ingresar un número entero y luego encuentra\n",
        "# todos los números primos desde 1 hasta el número ingresado. y dice si el\n",
        "#numero ingresado es primo o no debido a que siempre es =2\n",
        "#El usuario puede repetir este proceso varias veces.\n",
        "a = 1\n",
        "while True:\n",
        "    try:\n",
        "        Value= int(input(\"Ingrese un número entero: \"))\n",
        "        # Si llegamos hasta aquí, el usuario ingresó un número entero válido\n",
        "        break  # Salimos del bucle\n",
        "    except ValueError:\n",
        "        print(\"Entrada inválida. Por favor, ingrese un número entero.\")\n",
        "print(\"\\n\")\n",
        "# Aquí puedes realizar el proceso con el número entero válido\n",
        "print(\"El número ingresado es:\", Value)\n",
        "\n",
        "while a == 1:                                                                        # Este bucle se ejecutará mientras a sea igual a 1\n",
        "    for i in range(1,Value+1):                                                       # Este bucle itera sobre todos los números desde 1 hasta el valor ingresado por el usuario.\n",
        "        conta = 0                                                                    # variable que cuenta los divisores de cada número.\n",
        "        for n in range(1, i+1):\n",
        "            residue = i%n\n",
        "            if residue == 0:\n",
        "                conta = conta + 1\n",
        "\n",
        "            print(\"i = \", i)\n",
        "            print(\"n = \", n)\n",
        "            print(\"residue = \", residue)\n",
        "            print(\"conta = \", conta)\n",
        "            print(\"\\n\")\n",
        "\n",
        "    if conta == 2:\n",
        "       print(f'{i} es un primo')\n",
        "       print(\"\\n\")\n",
        "    else:\n",
        "       print(f'{i} NOOO es un primo')\n",
        "       print(\"\\n\")\n",
        "\n",
        "    print('¿Quieres continuar?. Presione 1 para hacer eso')\n",
        "    a = input()\n",
        "    a = int(a)\n",
        "\n",
        "    if a != 1:\n",
        "        break\n",
        "    print(\"\\n\")\n",
        "    value = input('Ingrese un valor')\n",
        "    value = int(value)"
      ],
      "metadata": {
        "colab": {
          "base_uri": "https://localhost:8080/",
          "height": 1000
        },
        "collapsed": true,
        "id": "fGUW6xBoYa2H",
        "outputId": "9a0b10fd-93b6-4d5d-dfe0-b9f9b1fdd086"
      },
      "execution_count": 71,
      "outputs": [
        {
          "output_type": "stream",
          "name": "stdout",
          "text": [
            "Ingrese un número entero: 3\n",
            "\n",
            "\n",
            "El número ingresado es: 3\n",
            "i =  1\n",
            "n =  1\n",
            "residue =  0\n",
            "conta =  1\n",
            "\n",
            "\n",
            "i =  2\n",
            "n =  1\n",
            "residue =  0\n",
            "conta =  1\n",
            "\n",
            "\n",
            "i =  2\n",
            "n =  2\n",
            "residue =  0\n",
            "conta =  2\n",
            "\n",
            "\n",
            "i =  3\n",
            "n =  1\n",
            "residue =  0\n",
            "conta =  1\n",
            "\n",
            "\n",
            "i =  3\n",
            "n =  2\n",
            "residue =  1\n",
            "conta =  1\n",
            "\n",
            "\n",
            "i =  3\n",
            "n =  3\n",
            "residue =  0\n",
            "conta =  2\n",
            "\n",
            "\n",
            "3 es un primo\n",
            "\n",
            "\n",
            "¿Quieres continuar?. Presione 1 para hacer eso\n"
          ]
        },
        {
          "output_type": "error",
          "ename": "KeyboardInterrupt",
          "evalue": "Interrupted by user",
          "traceback": [
            "\u001b[0;31m---------------------------------------------------------------------------\u001b[0m",
            "\u001b[0;31mKeyboardInterrupt\u001b[0m                         Traceback (most recent call last)",
            "\u001b[0;32m<ipython-input-71-cd005d10ec79>\u001b[0m in \u001b[0;36m<cell line: 19>\u001b[0;34m()\u001b[0m\n\u001b[1;32m     39\u001b[0m \u001b[0;34m\u001b[0m\u001b[0m\n\u001b[1;32m     40\u001b[0m     \u001b[0mprint\u001b[0m\u001b[0;34m(\u001b[0m\u001b[0;34m'¿Quieres continuar?. Presione 1 para hacer eso'\u001b[0m\u001b[0;34m)\u001b[0m\u001b[0;34m\u001b[0m\u001b[0;34m\u001b[0m\u001b[0m\n\u001b[0;32m---> 41\u001b[0;31m     \u001b[0ma\u001b[0m \u001b[0;34m=\u001b[0m \u001b[0minput\u001b[0m\u001b[0;34m(\u001b[0m\u001b[0;34m)\u001b[0m\u001b[0;34m\u001b[0m\u001b[0;34m\u001b[0m\u001b[0m\n\u001b[0m\u001b[1;32m     42\u001b[0m     \u001b[0ma\u001b[0m \u001b[0;34m=\u001b[0m \u001b[0mint\u001b[0m\u001b[0;34m(\u001b[0m\u001b[0ma\u001b[0m\u001b[0;34m)\u001b[0m\u001b[0;34m\u001b[0m\u001b[0;34m\u001b[0m\u001b[0m\n\u001b[1;32m     43\u001b[0m \u001b[0;34m\u001b[0m\u001b[0m\n",
            "\u001b[0;32m/usr/local/lib/python3.10/dist-packages/ipykernel/kernelbase.py\u001b[0m in \u001b[0;36mraw_input\u001b[0;34m(self, prompt)\u001b[0m\n\u001b[1;32m    849\u001b[0m                 \u001b[0;34m\"raw_input was called, but this frontend does not support input requests.\"\u001b[0m\u001b[0;34m\u001b[0m\u001b[0;34m\u001b[0m\u001b[0m\n\u001b[1;32m    850\u001b[0m             )\n\u001b[0;32m--> 851\u001b[0;31m         return self._input_request(str(prompt),\n\u001b[0m\u001b[1;32m    852\u001b[0m             \u001b[0mself\u001b[0m\u001b[0;34m.\u001b[0m\u001b[0m_parent_ident\u001b[0m\u001b[0;34m,\u001b[0m\u001b[0;34m\u001b[0m\u001b[0;34m\u001b[0m\u001b[0m\n\u001b[1;32m    853\u001b[0m             \u001b[0mself\u001b[0m\u001b[0;34m.\u001b[0m\u001b[0m_parent_header\u001b[0m\u001b[0;34m,\u001b[0m\u001b[0;34m\u001b[0m\u001b[0;34m\u001b[0m\u001b[0m\n",
            "\u001b[0;32m/usr/local/lib/python3.10/dist-packages/ipykernel/kernelbase.py\u001b[0m in \u001b[0;36m_input_request\u001b[0;34m(self, prompt, ident, parent, password)\u001b[0m\n\u001b[1;32m    893\u001b[0m             \u001b[0;32mexcept\u001b[0m \u001b[0mKeyboardInterrupt\u001b[0m\u001b[0;34m:\u001b[0m\u001b[0;34m\u001b[0m\u001b[0;34m\u001b[0m\u001b[0m\n\u001b[1;32m    894\u001b[0m                 \u001b[0;31m# re-raise KeyboardInterrupt, to truncate traceback\u001b[0m\u001b[0;34m\u001b[0m\u001b[0;34m\u001b[0m\u001b[0m\n\u001b[0;32m--> 895\u001b[0;31m                 \u001b[0;32mraise\u001b[0m \u001b[0mKeyboardInterrupt\u001b[0m\u001b[0;34m(\u001b[0m\u001b[0;34m\"Interrupted by user\"\u001b[0m\u001b[0;34m)\u001b[0m \u001b[0;32mfrom\u001b[0m \u001b[0;32mNone\u001b[0m\u001b[0;34m\u001b[0m\u001b[0;34m\u001b[0m\u001b[0m\n\u001b[0m\u001b[1;32m    896\u001b[0m             \u001b[0;32mexcept\u001b[0m \u001b[0mException\u001b[0m \u001b[0;32mas\u001b[0m \u001b[0me\u001b[0m\u001b[0;34m:\u001b[0m\u001b[0;34m\u001b[0m\u001b[0;34m\u001b[0m\u001b[0m\n\u001b[1;32m    897\u001b[0m                 \u001b[0mself\u001b[0m\u001b[0;34m.\u001b[0m\u001b[0mlog\u001b[0m\u001b[0;34m.\u001b[0m\u001b[0mwarning\u001b[0m\u001b[0;34m(\u001b[0m\u001b[0;34m\"Invalid Message:\"\u001b[0m\u001b[0;34m,\u001b[0m \u001b[0mexc_info\u001b[0m\u001b[0;34m=\u001b[0m\u001b[0;32mTrue\u001b[0m\u001b[0;34m)\u001b[0m\u001b[0;34m\u001b[0m\u001b[0;34m\u001b[0m\u001b[0m\n",
            "\u001b[0;31mKeyboardInterrupt\u001b[0m: Interrupted by user"
          ]
        }
      ]
    },
    {
      "cell_type": "code",
      "source": [
        "###OPTIMIZADOR CON EL BREAK\n",
        "# 9) Imprimir los números primos existentes entre 0 y 30\n",
        "tope_rango=30\n",
        "n = 0\n",
        "primo = True\n",
        "while (n < tope_rango):\n",
        "    for div in range(2, n):\n",
        "        if (n % div == 0):\n",
        "            primo = False\n",
        "    if (primo):\n",
        "        print(n)\n",
        "    else:\n",
        "        primo = True\n",
        "    n += 1\n",
        "\n",
        "\n",
        "\n",
        "# 10) ¿Se puede mejorar el proceso del punto 9? Utilizar las sentencias break y/ó continue para tal fin\n",
        "n = 0\n",
        "primo = True\n",
        "print(\"\\n\")\n",
        "while (n < tope_rango):\n",
        "    for div in range(2, n):\n",
        "        if (n % div == 0):\n",
        "            primo = False\n",
        "            break\n",
        "    if (primo):\n",
        "        print(n)\n",
        "    else:\n",
        "        primo = True\n",
        "    n += 1\n",
        "\n",
        "\n",
        "# 11) En los puntos 9 y 10, se diseño un código que encuentra números primos y además se lo optimizó. ¿Es posible saber en qué medida se optimizó?\n",
        "\n",
        "ciclos_sin_break = 0\n",
        "n = 0\n",
        "primo = True\n",
        "print(\"\\n\")\n",
        "while (n < tope_rango):\n",
        "    for div in range(2, n):\n",
        "        ciclos_sin_break += 1\n",
        "        if (n % div == 0):\n",
        "            primo = False\n",
        "    if (primo):\n",
        "        print(n)\n",
        "    else:\n",
        "        primo = True\n",
        "    n += 1\n",
        "print('Cantidad de ciclos: ' + str(ciclos_sin_break))\n",
        "print(\"\\n\")\n",
        "\n",
        "#\n",
        "ciclos_con_break = 0\n",
        "n = 0\n",
        "primo = True\n",
        "while (n < tope_rango):\n",
        "    for div in range(2, n):\n",
        "        ciclos_con_break += 1\n",
        "        if (n % div == 0):\n",
        "            primo = False\n",
        "            break\n",
        "    if (primo):\n",
        "        print(n)\n",
        "    else:\n",
        "        primo = True\n",
        "    n += 1\n",
        "print('Cantidad de ciclos: ' + str(ciclos_con_break))\n",
        "print('Se optimizó a un ' + str(ciclos_con_break/ciclos_sin_break) + '% de ciclos aplicando break')\n",
        "print(\"\\n\")\n",
        "\n",
        "\n",
        "# 12) Si la cantidad de números que se evalúa es mayor a treinta, esa optimización crece?\n",
        "tope_rango=100                                              #TOPE DEL RANGO\n",
        "ciclos_sin_break = 0                                        #CUENTOR DE CICLOS\n",
        "n = 0                                                       #N INICIA EN CERO PARA MIRAR SI ES PRIMO O NO\n",
        "primo = True                                                #ES PRIMO SI\n",
        "while (n < tope_rango):                                     #INICIO UN CICLO DONDE MUERE CUANDO N SEA MENOR QUE EL TOPO (99)\n",
        "    for div in range(2, n):                                 #SE VERIFICA SI EL NUMERO ES DIVISIBLE DE 2 HASTA 99\n",
        "        ciclos_sin_break += 1                               #CUENTA CADA CICLO\n",
        "        if (n % div == 0):                                  #SI ES DIVISIBLE\n",
        "            primo = False                                   #SI N ES DIVISIBLE POR ALGUN DIVISOR SE ESTABLECE COMO PRIMO FALSE\n",
        "    if (primo):                                             #SI ES PRIMO SE IMPRIME\n",
        "        print(n)\n",
        "    else:\n",
        "        primo = True\n",
        "    n += 1\n",
        "print('Cantidad de ciclos: ' + str(ciclos_sin_break))\n",
        "print(\"\\n\")\n",
        "\n",
        "ciclos_con_break = 0\n",
        "n = 0\n",
        "primo = True\n",
        "while (n < tope_rango):\n",
        "    for div in range(2, n):\n",
        "        ciclos_con_break += 1\n",
        "        if (n % div == 0):\n",
        "            primo = False\n",
        "            break\n",
        "#EL BREAK HACE QUE SE SALGA INMEDIATAMENTE DEL BUCLE INTERNO,  SI LLEGA A SER DIVISIBLE POR EL 2 YA SE ACABA EL BUCLE\n",
        "    if (primo):\n",
        "        print(n)\n",
        "    else:\n",
        "        primo = True\n",
        "    n += 1\n",
        "print('Cantidad de ciclos: ' + str(ciclos_con_break))\n",
        "print('Se optimizó a un ' + str(ciclos_con_break/ciclos_sin_break) + '% de ciclos aplicando break')\n",
        "\n",
        "\n",
        "\n",
        "\n",
        "\n"
      ],
      "metadata": {
        "colab": {
          "base_uri": "https://localhost:8080/"
        },
        "id": "Y6KyyReve409",
        "outputId": "b39eb574-133a-4884-f704-8e91d440bc4e"
      },
      "execution_count": 63,
      "outputs": [
        {
          "output_type": "stream",
          "name": "stdout",
          "text": [
            "0\n",
            "1\n",
            "2\n",
            "3\n",
            "5\n",
            "7\n",
            "11\n",
            "13\n",
            "17\n",
            "19\n",
            "23\n",
            "29\n",
            "\n",
            "\n",
            "0\n",
            "1\n",
            "2\n",
            "3\n",
            "5\n",
            "7\n",
            "11\n",
            "13\n",
            "17\n",
            "19\n",
            "23\n",
            "29\n",
            "\n",
            "\n",
            "0\n",
            "1\n",
            "2\n",
            "3\n",
            "5\n",
            "7\n",
            "11\n",
            "13\n",
            "17\n",
            "19\n",
            "23\n",
            "29\n",
            "Cantidad de ciclos: 378\n",
            "\n",
            "\n",
            "0\n",
            "1\n",
            "2\n",
            "3\n",
            "5\n",
            "7\n",
            "11\n",
            "13\n",
            "17\n",
            "19\n",
            "23\n",
            "29\n",
            "Cantidad de ciclos: 134\n",
            "Se optimizó a un 0.3544973544973545% de ciclos aplicando break\n",
            "\n",
            "\n",
            "0\n",
            "1\n",
            "2\n",
            "3\n",
            "5\n",
            "7\n",
            "11\n",
            "13\n",
            "17\n",
            "19\n",
            "23\n",
            "29\n",
            "31\n",
            "37\n",
            "41\n",
            "43\n",
            "47\n",
            "53\n",
            "59\n",
            "61\n",
            "67\n",
            "71\n",
            "73\n",
            "79\n",
            "83\n",
            "89\n",
            "97\n",
            "Cantidad de ciclos: 4753\n",
            "\n",
            "\n",
            "0\n",
            "1\n",
            "2\n",
            "3\n",
            "5\n",
            "7\n",
            "11\n",
            "13\n",
            "17\n",
            "19\n",
            "23\n",
            "29\n",
            "31\n",
            "37\n",
            "41\n",
            "43\n",
            "47\n",
            "53\n",
            "59\n",
            "61\n",
            "67\n",
            "71\n",
            "73\n",
            "79\n",
            "83\n",
            "89\n",
            "97\n",
            "Cantidad de ciclos: 1132\n",
            "Se optimizó a un 0.2381653692404797% de ciclos aplicando break\n"
          ]
        }
      ]
    },
    {
      "cell_type": "code",
      "source": [
        "##Comprobacion de operacion matematica\n",
        "\n",
        "my_cool_variable = 7 + 9 == 11            #pyton realiza la operacion matematica y la compara con el resultado obtenido\n",
        "print(my_cool_variable)\n",
        "\n",
        "print(\"\\n\")\n",
        "\n",
        "my_cool_variable = 7 + 7 == 14\n",
        "print(my_cool_variable)"
      ],
      "metadata": {
        "colab": {
          "base_uri": "https://localhost:8080/"
        },
        "collapsed": true,
        "id": "NgwqEZYmhoGx",
        "outputId": "b6c1162d-c0c1-4761-dd13-c9e9ee18dcd7"
      },
      "execution_count": 67,
      "outputs": [
        {
          "output_type": "stream",
          "name": "stdout",
          "text": [
            "False\n",
            "\n",
            "\n",
            "True\n"
          ]
        }
      ]
    },
    {
      "cell_type": "code",
      "source": [
        "for i in range(1,10):           #i inicia con un valor de 1\n",
        "    while i <= 6:               #indica que se debe ejecutar solo hast 6 veces\n",
        "        i += 1                  #i empieza a tomar el valor de dos y se imprime y se repite el proceso hasta imprimir 6 veces\n",
        "        print(i)\n",
        "    break"
      ],
      "metadata": {
        "colab": {
          "base_uri": "https://localhost:8080/"
        },
        "collapsed": true,
        "id": "mYiNJQjIiToC",
        "outputId": "7bacbdc7-2f51-4786-bf84-fa7c34479820"
      },
      "execution_count": 70,
      "outputs": [
        {
          "output_type": "stream",
          "name": "stdout",
          "text": [
            "2\n",
            "3\n",
            "4\n",
            "5\n",
            "6\n",
            "7\n"
          ]
        }
      ]
    }
  ]
}